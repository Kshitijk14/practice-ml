{
 "cells": [
  {
   "cell_type": "code",
   "execution_count": 4,
   "metadata": {},
   "outputs": [
    {
     "data": {
      "text/html": [
       "<div>\n",
       "<style scoped>\n",
       "    .dataframe tbody tr th:only-of-type {\n",
       "        vertical-align: middle;\n",
       "    }\n",
       "\n",
       "    .dataframe tbody tr th {\n",
       "        vertical-align: top;\n",
       "    }\n",
       "\n",
       "    .dataframe thead th {\n",
       "        text-align: right;\n",
       "    }\n",
       "</style>\n",
       "<table border=\"1\" class=\"dataframe\">\n",
       "  <thead>\n",
       "    <tr style=\"text-align: right;\">\n",
       "      <th></th>\n",
       "      <th>S.No</th>\n",
       "      <th>Names</th>\n",
       "      <th>Marks</th>\n",
       "    </tr>\n",
       "  </thead>\n",
       "  <tbody>\n",
       "    <tr>\n",
       "      <th>0</th>\n",
       "      <td>1</td>\n",
       "      <td>Alpha</td>\n",
       "      <td>46</td>\n",
       "    </tr>\n",
       "    <tr>\n",
       "      <th>1</th>\n",
       "      <td>2</td>\n",
       "      <td>Beta</td>\n",
       "      <td>78</td>\n",
       "    </tr>\n",
       "    <tr>\n",
       "      <th>2</th>\n",
       "      <td>3</td>\n",
       "      <td>Gamma</td>\n",
       "      <td>92</td>\n",
       "    </tr>\n",
       "    <tr>\n",
       "      <th>3</th>\n",
       "      <td>4</td>\n",
       "      <td>Charlie</td>\n",
       "      <td>36</td>\n",
       "    </tr>\n",
       "    <tr>\n",
       "      <th>4</th>\n",
       "      <td>5</td>\n",
       "      <td>Delta</td>\n",
       "      <td>50</td>\n",
       "    </tr>\n",
       "  </tbody>\n",
       "</table>\n",
       "</div>"
      ],
      "text/plain": [
       "   S.No    Names  Marks\n",
       "0     1    Alpha     46\n",
       "1     2     Beta     78\n",
       "2     3    Gamma     92\n",
       "3     4  Charlie     36\n",
       "4     5    Delta     50"
      ]
     },
     "execution_count": 4,
     "metadata": {},
     "output_type": "execute_result"
    }
   ],
   "source": [
    "import pandas as pd\n",
    "\n",
    "# Load the data into a DataFrame\n",
    "data = {\n",
    "    'S.No': [1, 2, 3, 4, 5],\n",
    "    'Names': ['Alpha', 'Beta', 'Gamma', 'Charlie', 'Delta'],\n",
    "    'Marks': [46, 78, 92, 36, 50]\n",
    "}\n",
    "\n",
    "df = pd.DataFrame(data)\n",
    "df"
   ]
  },
  {
   "cell_type": "code",
   "execution_count": 5,
   "metadata": {},
   "outputs": [
    {
     "data": {
      "text/html": [
       "<div>\n",
       "<style scoped>\n",
       "    .dataframe tbody tr th:only-of-type {\n",
       "        vertical-align: middle;\n",
       "    }\n",
       "\n",
       "    .dataframe tbody tr th {\n",
       "        vertical-align: top;\n",
       "    }\n",
       "\n",
       "    .dataframe thead th {\n",
       "        text-align: right;\n",
       "    }\n",
       "</style>\n",
       "<table border=\"1\" class=\"dataframe\">\n",
       "  <thead>\n",
       "    <tr style=\"text-align: right;\">\n",
       "      <th></th>\n",
       "      <th>S.No</th>\n",
       "      <th>Names</th>\n",
       "      <th>Marks</th>\n",
       "      <th>Marks Cohort</th>\n",
       "    </tr>\n",
       "  </thead>\n",
       "  <tbody>\n",
       "    <tr>\n",
       "      <th>0</th>\n",
       "      <td>1</td>\n",
       "      <td>Alpha</td>\n",
       "      <td>46</td>\n",
       "      <td>Less than 50</td>\n",
       "    </tr>\n",
       "    <tr>\n",
       "      <th>1</th>\n",
       "      <td>2</td>\n",
       "      <td>Beta</td>\n",
       "      <td>78</td>\n",
       "      <td>Greater than 50</td>\n",
       "    </tr>\n",
       "    <tr>\n",
       "      <th>2</th>\n",
       "      <td>3</td>\n",
       "      <td>Gamma</td>\n",
       "      <td>92</td>\n",
       "      <td>Greater than 50</td>\n",
       "    </tr>\n",
       "    <tr>\n",
       "      <th>3</th>\n",
       "      <td>4</td>\n",
       "      <td>Charlie</td>\n",
       "      <td>36</td>\n",
       "      <td>Less than 50</td>\n",
       "    </tr>\n",
       "    <tr>\n",
       "      <th>4</th>\n",
       "      <td>5</td>\n",
       "      <td>Delta</td>\n",
       "      <td>50</td>\n",
       "      <td>Equal to 50</td>\n",
       "    </tr>\n",
       "  </tbody>\n",
       "</table>\n",
       "</div>"
      ],
      "text/plain": [
       "   S.No    Names  Marks     Marks Cohort\n",
       "0     1    Alpha     46     Less than 50\n",
       "1     2     Beta     78  Greater than 50\n",
       "2     3    Gamma     92  Greater than 50\n",
       "3     4  Charlie     36     Less than 50\n",
       "4     5    Delta     50      Equal to 50"
      ]
     },
     "execution_count": 5,
     "metadata": {},
     "output_type": "execute_result"
    }
   ],
   "source": [
    "# Create a new column 'Marks Cohort' based on the conditions\n",
    "df['Marks Cohort'] = df['Marks'].apply(lambda x: 'Less than 50' if x < 50 else 'Equal to 50' if x == 50 else 'Greater than 50')\n",
    "df"
   ]
  },
  {
   "cell_type": "code",
   "execution_count": 7,
   "metadata": {},
   "outputs": [],
   "source": [
    "# Segregate the data based on the Cohort\n",
    "less_than_50 = df[df['Marks Cohort'] == 'Less than 50']\n",
    "equal_to_50 = df[df['Marks Cohort'] == 'Equal to 50']\n",
    "greater_than_50 = df[df['Marks Cohort'] == 'Greater than 50']"
   ]
  },
  {
   "cell_type": "code",
   "execution_count": 8,
   "metadata": {},
   "outputs": [
    {
     "name": "stdout",
     "output_type": "stream",
     "text": [
      "Less than 50:\n",
      "    S.No    Names  Marks  Marks Cohort\n",
      "0     1    Alpha     46  Less than 50\n",
      "3     4  Charlie     36  Less than 50\n",
      "\n",
      "Equal to 50:\n",
      "    S.No  Names  Marks Marks Cohort\n",
      "4     5  Delta     50  Equal to 50\n",
      "\n",
      "Greater than 50:\n",
      "    S.No  Names  Marks     Marks Cohort\n",
      "1     2   Beta     78  Greater than 50\n",
      "2     3  Gamma     92  Greater than 50\n"
     ]
    }
   ],
   "source": [
    "print(\"Less than 50:\\n\", less_than_50)\n",
    "print(\"\\nEqual to 50:\\n\", equal_to_50)\n",
    "print(\"\\nGreater than 50:\\n\", greater_than_50)"
   ]
  }
 ],
 "metadata": {
  "kernelspec": {
   "display_name": "env",
   "language": "python",
   "name": "python3"
  },
  "language_info": {
   "codemirror_mode": {
    "name": "ipython",
    "version": 3
   },
   "file_extension": ".py",
   "mimetype": "text/x-python",
   "name": "python",
   "nbconvert_exporter": "python",
   "pygments_lexer": "ipython3",
   "version": "3.11.4"
  }
 },
 "nbformat": 4,
 "nbformat_minor": 2
}
